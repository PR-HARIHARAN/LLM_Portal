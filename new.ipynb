{
 "cells": [
  {
   "metadata": {
    "ExecuteTime": {
     "end_time": "2025-02-15T01:13:31.043829Z",
     "start_time": "2025-02-15T01:13:29.172022Z"
    }
   },
   "cell_type": "code",
   "source": [
    "from my_agent.LLMHandler import LLMHandler\n",
    "from my_agent.DatabaseManager import DatabaseManager\n",
    "llm_handler = LLMHandler()"
   ],
   "id": "1067ecdaeba20988",
   "outputs": [],
   "execution_count": 1
  },
  {
   "metadata": {
    "ExecuteTime": {
     "end_time": "2025-02-15T01:13:31.708534Z",
     "start_time": "2025-02-15T01:13:31.580799Z"
    }
   },
   "cell_type": "code",
   "source": [
    "schema = DatabaseManager().get_database_schema()\n",
    "print(schema)"
   ],
   "id": "9ccc01c6c297f9d1",
   "outputs": [
    {
     "name": "stdout",
     "output_type": "stream",
     "text": [
      "{'completion_status': ['id', 'CTPS', 'L1', 'L2', 'L3', 'L4', 'L5', 'PDS', 'last_edited'], 'studentperformance': ['Portal_ID', 'Register_Number', 'Name', 'Department', 'CTPS', 'L1', 'L2', 'L3', 'L4', 'L5', 'PDS', 'Total_score', 'Date', 'completed_CTPS', 'completed_L1', 'completed_L2', 'completed_L3', 'completed_L4', 'completed_L5', 'completed_PDS']}\n"
     ]
    }
   ],
   "execution_count": 2
  },
  {
   "metadata": {
    "ExecuteTime": {
     "end_time": "2025-02-15T01:25:08.293430Z",
     "start_time": "2025-02-15T01:25:05.024814Z"
    }
   },
   "cell_type": "code",
   "source": "response = llm_handler.get_query_from_llm(schema=schema,question=\"top 5 students of ctps\")",
   "id": "5dad6ac09de1b1d",
   "outputs": [],
   "execution_count": 32
  },
  {
   "metadata": {
    "ExecuteTime": {
     "end_time": "2025-02-15T01:25:09.904879Z",
     "start_time": "2025-02-15T01:25:09.897875Z"
    }
   },
   "cell_type": "code",
   "source": "response",
   "id": "fdbbdd90f5a671f4",
   "outputs": [
    {
     "data": {
      "text/plain": [
       "'SELECT Name, CTPS\\nFROM studentperformance\\nORDER BY CTPS DESC\\nLIMIT 5'"
      ]
     },
     "execution_count": 33,
     "metadata": {},
     "output_type": "execute_result"
    }
   ],
   "execution_count": 33
  },
  {
   "metadata": {
    "ExecuteTime": {
     "end_time": "2025-02-15T01:25:12.575465Z",
     "start_time": "2025-02-15T01:25:12.540561Z"
    }
   },
   "cell_type": "code",
   "source": "execute = DatabaseManager().execute_read_query(response)",
   "id": "165589598ad2835c",
   "outputs": [],
   "execution_count": 34
  },
  {
   "metadata": {
    "ExecuteTime": {
     "end_time": "2025-02-15T01:25:14.525344Z",
     "start_time": "2025-02-15T01:25:14.518382Z"
    }
   },
   "cell_type": "code",
   "source": "execute",
   "id": "4fedfb8c236568bd",
   "outputs": [
    {
     "data": {
      "text/plain": [
       "(RMKeyView(['Name', 'CTPS']),\n",
       " [('SAI DHINAKAR S', 96.6),\n",
       "  ('SHREE ABIRAAMI M', 96.46),\n",
       "  ('PRADEESH S', 96.45),\n",
       "  ('JAYASHREELAKSHMI S', 96.43),\n",
       "  ('RAJESH S', 96.24)])"
      ]
     },
     "execution_count": 35,
     "metadata": {},
     "output_type": "execute_result"
    }
   ],
   "execution_count": 35
  },
  {
   "metadata": {
    "ExecuteTime": {
     "end_time": "2025-02-15T01:25:31.155755Z",
     "start_time": "2025-02-15T01:25:19.091090Z"
    }
   },
   "cell_type": "code",
   "source": "explain=llm_handler.explain_query(response)",
   "id": "81658a86822ff7a5",
   "outputs": [],
   "execution_count": 36
  },
  {
   "metadata": {
    "ExecuteTime": {
     "end_time": "2025-02-15T01:25:33.916503Z",
     "start_time": "2025-02-15T01:25:33.909566Z"
    }
   },
   "cell_type": "code",
   "source": "explain",
   "id": "2684d93934bf615f",
   "outputs": [
    {
     "data": {
      "text/plain": [
       "{'explanation': \"Error generating response: HTTPConnectionPool(host='localhost', port=11434): Read timed out. (read timeout=10)\",\n",
       " 'status': 'success'}"
      ]
     },
     "execution_count": 37,
     "metadata": {},
     "output_type": "execute_result"
    }
   ],
   "execution_count": 37
  },
  {
   "metadata": {},
   "cell_type": "code",
   "outputs": [],
   "execution_count": null,
   "source": "",
   "id": "73581a2e60cca09c"
  }
 ],
 "metadata": {
  "kernelspec": {
   "name": "python3",
   "language": "python",
   "display_name": "Python 3 (ipykernel)"
  }
 },
 "nbformat": 5,
 "nbformat_minor": 9
}
